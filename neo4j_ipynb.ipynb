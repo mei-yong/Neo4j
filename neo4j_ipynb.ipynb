{
 "cells": [
  {
   "cell_type": "markdown",
   "metadata": {},
   "source": [
    "# Neo4j in iPython\n",
    "https://www.youtube.com/watch?v=Nkd6Ei-xuxI <br>\n",
    "https://github.com/nicolewhite?tab=repositories"
   ]
  },
  {
   "cell_type": "markdown",
   "metadata": {},
   "source": [
    "pip install ipython-cypher\n",
    "pip install -U ggplot\n",
    "pip install networkx"
   ]
  },
  {
   "cell_type": "code",
   "execution_count": null,
   "metadata": {},
   "outputs": [],
   "source": [
    "%load_ext cypher\n",
    "%matplotlib inline"
   ]
  },
  {
   "cell_type": "code",
   "execution_count": null,
   "metadata": {},
   "outputs": [],
   "source": [
    "# Return a df with a raw cypher query\n",
    "%%cypher\n",
    "MATCH (n) RETURN n LIMIT 5"
   ]
  },
  {
   "cell_type": "code",
   "execution_count": null,
   "metadata": {},
   "outputs": [],
   "source": [
    "# Visualise a subgraph\n",
    "import networkx as nx\n",
    "results = %cypher MATCH (n) RETURN n LIMIT 5\n",
    "g = results.get_graph()\n",
    "plt.figure(figsize=(6,4));\n",
    "nx.draw(g)"
   ]
  },
  {
   "cell_type": "code",
   "execution_count": null,
   "metadata": {},
   "outputs": [],
   "source": [
    "# Edit node colours\n",
    "node_map = {'Label1':'#colourhash', 'Label2':'#colourhash'}\n",
    "g = results.get_graph()\n",
    "plt.figure(figsize=(6,4));\n",
    "nx.draw(g, node_color=[node_map[g.node[node]['labels'][0] for node in g])"
   ]
  },
  {
   "cell_type": "code",
   "execution_count": null,
   "metadata": {},
   "outputs": [],
   "source": [
    "# Edit node size\n",
    "nx.draw(g, node_color=[node_map[g.node[node]['labels'][0] for node in g],\n",
    "            node_size=[x * 100 for x in g.degree().values()])"
   ]
  },
  {
   "cell_type": "code",
   "execution_count": null,
   "metadata": {},
   "outputs": [],
   "source": [
    "# Edit edge colours\n",
    "edge_map = {'rel1':'#colourhash', 'rel2':'#colourhash'}\n",
    "nx.draw(g, node_color=[node_map[g.node[node]['labels'][0] for node in g],\n",
    "            edge_color=[edge_map[edge[2]['type']] for edge in g.edges(data=True)])"
   ]
  },
  {
   "cell_type": "code",
   "execution_count": null,
   "metadata": {},
   "outputs": [],
   "source": []
  }
 ],
 "metadata": {
  "kernelspec": {
   "display_name": "Python 3",
   "language": "python",
   "name": "python3"
  },
  "language_info": {
   "codemirror_mode": {
    "name": "ipython",
    "version": 3
   },
   "file_extension": ".py",
   "mimetype": "text/x-python",
   "name": "python",
   "nbconvert_exporter": "python",
   "pygments_lexer": "ipython3",
   "version": "3.7.4"
  }
 },
 "nbformat": 4,
 "nbformat_minor": 2
}
